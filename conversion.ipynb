{
 "cells": [
  {
   "cell_type": "code",
   "execution_count": 20,
   "metadata": {},
   "outputs": [],
   "source": [
    "import os\n",
    "import pandas as pd\n",
    "import numpy as np\n",
    "from skimage import io, color\n",
    "from skimage.feature import graycomatrix, graycoprops\n",
    "import glob"
   ]
  },
  {
   "cell_type": "code",
   "execution_count": 21,
   "metadata": {},
   "outputs": [],
   "source": [
    "# Fonction pour calculer les caractéristiques GLCM\n",
    "def calculate_glcm_properties(image):\n",
    "    # Convertir l'image en niveaux de gris\n",
    "    if len(image.shape) == 3: \n",
    "        if image.shape[2] == 4:  \n",
    "            image = image[:, :, :3] \n",
    "        gray_image = color.rgb2gray(image)  \n",
    "    elif len(image.shape) == 2: \n",
    "        gray_image = image\n",
    "    else:\n",
    "        raise ValueError(\"Unexpected format for image.\")\n",
    "\n",
    "    gray_image = (gray_image * 255).astype(np.uint8)\n",
    "\n",
    "    # Calculer le GLCM et ses propriétés\n",
    "    glcm = graycomatrix(\n",
    "        gray_image, distances=[1], angles=[0, np.pi / 4, np.pi / 2, 3 * np.pi / 4], levels=256\n",
    "    )\n",
    "    glcm = glcm + (glcm == 0)\n",
    "\n",
    "    # Extraire les propriétés du GLCM\n",
    "    glcm_props = {\n",
    "        'contrast': graycoprops(glcm, 'contrast').mean(),\n",
    "        'dissimilarity': graycoprops(glcm, 'dissimilarity').mean(),\n",
    "        'homogeneity': graycoprops(glcm, 'homogeneity').mean(),\n",
    "        'ASM': graycoprops(glcm, 'ASM').mean(),\n",
    "        'energy': graycoprops(glcm, 'energy').mean(),\n",
    "        'correlation': graycoprops(glcm, 'correlation').mean(),\n",
    "    }\n",
    "\n",
    "    return glcm_props"
   ]
  },
  {
   "cell_type": "code",
   "execution_count": 22,
   "metadata": {},
   "outputs": [],
   "source": [
    "# Fonction pour traiter les images et calculer les caractéristiques GLCM\n",
    "def process_images(root_folder):\n",
    "    glcm_results = []\n",
    "    # Itérer sur chaque sous-dossier dans le dossier racine (représentant les catégories/labels)\n",
    "    for folder_name in os.listdir(root_folder):\n",
    "        folder_path = os.path.join(root_folder, folder_name)\n",
    "        \n",
    "        if os.path.isdir(folder_path):\n",
    "            # Itérer sur tous les fichiers image dans le sous-dossier\n",
    "            for image_path in glob.glob(os.path.join(folder_path, \"*.jpg\")):\n",
    "                try:\n",
    "                    image = io.imread(image_path)\n",
    "                    glcm_props = calculate_glcm_properties(image)\n",
    "                    glcm_props['Label'] = folder_name\n",
    "                    glcm_props['Image'] = os.path.basename(image_path)\n",
    "                    glcm_results.append(glcm_props)\n",
    "                except Exception as e:\n",
    "                    print(f\"Error processing image {image_path}: {e}\")\n",
    "                    continue\n",
    "    return glcm_results"
   ]
  },
  {
   "cell_type": "code",
   "execution_count": 28,
   "metadata": {},
   "outputs": [
    {
     "name": "stdout",
     "output_type": "stream",
     "text": [
      "Processing complete. Results saved to 'image_features_with_labels_bin.xlsx'.\n"
     ]
    }
   ],
   "source": [
    "# Spécifier le dossier racine où se trouvent les catégories/sous-dossiers\n",
    "root_folder = \"brain-tumor-test\"\n",
    "\n",
    "# Traiter les images et extraire les caractéristiques\n",
    "glcm_features = process_images(root_folder)\n",
    "\n",
    "# Convertir les résultats en un DataFrame\n",
    "df_glcm = pd.DataFrame(glcm_features)\n",
    "\n",
    "# Sauvegarder le DataFrame dans un fichier Excel\n",
    "df_glcm.to_excel(root_folder+\".xlsx\", index=False)\n",
    "\n",
    "print(\"Traitement terminé\")"
   ]
  },
  {
   "cell_type": "code",
   "execution_count": null,
   "metadata": {},
   "outputs": [],
   "source": []
  }
 ],
 "metadata": {
  "kernelspec": {
   "display_name": ".venv",
   "language": "python",
   "name": "python3"
  },
  "language_info": {
   "codemirror_mode": {
    "name": "ipython",
    "version": 3
   },
   "file_extension": ".py",
   "mimetype": "text/x-python",
   "name": "python",
   "nbconvert_exporter": "python",
   "pygments_lexer": "ipython3",
   "version": "3.10.0rc2"
  }
 },
 "nbformat": 4,
 "nbformat_minor": 2
}
